{
 "cells": [
  {
   "cell_type": "markdown",
   "metadata": {},
   "source": [
    "## Code used to georefence and evaluate the results "
   ]
  },
  {
   "cell_type": "code",
   "execution_count": null,
   "metadata": {},
   "outputs": [],
   "source": [
    "# import libraries\n",
    "import numpy as np\n",
    "import tensorflow as  tf\n",
    "from __future__ import absolute_import\n",
    "from __future__ import division\n",
    "from __future__ import print_function\n",
    "\n",
    "from datetime import datetime\n",
    "from packaging import version\n",
    "\n",
    "%tensorflow_version 2.x\n",
    "from tensorflow import keras\n",
    "from tensorflow.keras.models import *\n",
    "from tensorflow.keras.layers import *\n",
    "from tensorflow.keras.optimizers import *\n",
    "from sklearn.model_selection import train_test_split\n",
    "\n",
    "import numpy as np\n",
    "import pandas as pd\n",
    "\n",
    "print(\"TensorFlow version: \", tf.__version__)\n",
    "assert version.parse(tf.__version__).release[0] >= 2, \\\n",
    "    \"This notebook requires TensorFlow 2.0 or above.\""
   ]
  },
  {
   "cell_type": "code",
   "execution_count": null,
   "metadata": {},
   "outputs": [],
   "source": [
    "# Install segmentation_models\n",
    "pip install segmentation_models"
   ]
  },
  {
   "cell_type": "code",
   "execution_count": null,
   "metadata": {},
   "outputs": [],
   "source": [
    "import segmentation_models as sm"
   ]
  },
  {
   "cell_type": "code",
   "execution_count": null,
   "metadata": {},
   "outputs": [],
   "source": [
    "# Load data\n",
    "X_test = np.load(\"/content/drive/My Drive/Mestrado/artigo/artigo_final/data/test/test_with_terrain/area_1/arrays/X_test_area_1.npy\")\n",
    "Y_test = np.load(\"/content/drive/My Drive/Mestrado/artigo/artigo_final/data/test/test_with_terrain/area_1/arrays/Y_test_area_1.npy\")\n",
    "original_image_path = \"/content/drive/My Drive/Mestrado/artigo/artigo_final/data/test/test_with_terrain/area_1/images/test_area_1.tif\""
   ]
  },
  {
   "cell_type": "code",
   "execution_count": null,
   "metadata": {},
   "outputs": [],
   "source": [
    "# Define TP metric\n",
    "def true_positive(y_true, y_pred):\n",
    "    y_pred_pos = tf.keras.backend.round(tf.keras.backend.clip(y_pred, 0, 1))\n",
    "    y_pred_neg = 1 - y_pred_pos\n",
    "\n",
    "    y_pos = tf.keras.backend.round(tf.keras.backend.clip(y_true, 0, 1))\n",
    "    y_neg = 1 - y_pos\n",
    "\n",
    "    tp = tf.keras.backend.sum(y_pos * y_pred_pos)\n",
    "\n",
    "\n",
    "    return tp * (0.005**2)"
   ]
  },
  {
   "cell_type": "code",
   "execution_count": null,
   "metadata": {},
   "outputs": [],
   "source": [
    "# Define TN metrics\n",
    "def true_negative(y_true, y_pred):\n",
    "    y_pred_pos = tf.keras.backend.round(tf.keras.backend.clip(y_pred, 0, 1))\n",
    "    y_pred_neg = 1 - y_pred_pos\n",
    "\n",
    "    y_pos = tf.keras.backend.round(tf.keras.backend.clip(y_true, 0, 1))\n",
    "    y_neg = 1 - y_pos\n",
    "\n",
    "    \n",
    "    tn = tf.keras.backend.sum(y_neg * y_pred_neg)\n",
    "\n",
    "\n",
    "    return tn * (0.005**2)"
   ]
  },
  {
   "cell_type": "code",
   "execution_count": null,
   "metadata": {},
   "outputs": [],
   "source": [
    "# Define FP metrics\n",
    "def false_positve(y_true, y_pred):\n",
    "    y_pred_pos = tf.keras.backend.round(tf.keras.backend.clip(y_pred, 0, 1))\n",
    "    y_pred_neg = 1 - y_pred_pos\n",
    "\n",
    "    y_pos = tf.keras.backend.round(tf.keras.backend.clip(y_true, 0, 1))\n",
    "    y_neg = 1 - y_pos\n",
    "\n",
    "   \n",
    "    fp = tf.keras.backend.sum(y_neg * y_pred_pos)\n",
    "   \n",
    "\n",
    "    return fp * (0.005**2)"
   ]
  },
  {
   "cell_type": "code",
   "execution_count": null,
   "metadata": {},
   "outputs": [],
   "source": [
    "# Define FN metrics\n",
    "def false_negative(y_true, y_pred):\n",
    "    y_pred_pos = tf.keras.backend.round(tf.keras.backend.clip(y_pred, 0, 1))\n",
    "    y_pred_neg = 1 - y_pred_pos\n",
    "\n",
    "    y_pos = tf.keras.backend.round(tf.keras.backend.clip(y_true, 0, 1))\n",
    "    y_neg = 1 - y_pos\n",
    "\n",
    "    fn = tf.keras.backend.sum(y_pos * y_pred_neg)\n",
    "\n",
    "\n",
    "\n",
    "    return fn * (0.005**2)"
   ]
  },
  {
   "cell_type": "code",
   "execution_count": null,
   "metadata": {},
   "outputs": [],
   "source": [
    "# Network Metrics\n",
    "metrics = [sm.metrics.Precision(threshold=0.5),sm.metrics.Recall(threshold=0.5),sm.metrics.FScore(threshold=0.5,beta=1),sm.metrics.IOUScore(threshold=0.5),matthews_correlation,true_positive,true_negative,false_positve,false_negative]"
   ]
  },
  {
   "cell_type": "code",
   "execution_count": null,
   "metadata": {},
   "outputs": [],
   "source": [
    "# Define model Architecture\n",
    "def Unet(lr,filtersFirstLayer, pretrained_weights = None,input_size = (32,32,6)):\n",
    "    inputs = Input(input_size)\n",
    "    \n",
    "    conv1 = Conv2D(filtersFirstLayer, 3, activation = 'relu', padding = 'same')(inputs)\n",
    "    conv1 = Conv2D(filtersFirstLayer, 3, activation = 'relu', padding = 'same')(conv1)\n",
    "    pool1 = MaxPooling2D(pool_size=(2, 2))(conv1)\n",
    "   \n",
    "    conv2 = Conv2D(filtersFirstLayer*2, 3, activation = 'relu', padding = 'same')(pool1)\n",
    "    conv2 = Conv2D(filtersFirstLayer*2, 3, activation = 'relu', padding = 'same')(conv2)\n",
    "    pool2 = MaxPooling2D(pool_size=(2, 2))(conv2)\n",
    "\n",
    "\n",
    "    conv3 = Conv2D(filtersFirstLayer*4, 3, activation = 'relu', padding = 'same')(pool2)\n",
    "    conv3 = Conv2D(filtersFirstLayer*4, 3, activation = 'relu', padding = 'same')(conv3)\n",
    "    pool3 = MaxPooling2D(pool_size=(2, 2))(conv3)\n",
    "\n",
    " \n",
    "    conv4 = Conv2D(filtersFirstLayer*8, 3, activation = 'relu', padding = 'same')(pool3)\n",
    "    conv4 = Conv2D(filtersFirstLayer*8, 3, activation = 'relu', padding = 'same')(conv4)\n",
    "    pool4 = MaxPooling2D(pool_size=(2, 2))(conv4)\n",
    "\n",
    "  \n",
    "    conv5 = Conv2D(filtersFirstLayer*16, 3, activation = 'relu', padding = 'same')(pool4)\n",
    "    conv5 = Conv2D(filtersFirstLayer*16, 3, activation = 'relu', padding = 'same')(conv5)\n",
    "\n",
    "    # Up 1 \n",
    "    up6 = Conv2D(filtersFirstLayer*8, 2, activation = 'relu', padding = 'same')(UpSampling2D(size = (2,2))(conv5))\n",
    "    merge6 = concatenate([conv4,up6], axis = 3)\n",
    "    conv6 = Conv2D(filtersFirstLayer*8, 3, activation = 'relu', padding = 'same')(merge6)\n",
    "    conv6 = Conv2D(filtersFirstLayer*8, 3, activation = 'relu', padding = 'same')(conv6)\n",
    "\n",
    "    # Up 2 \n",
    "    up7 = Conv2D(filtersFirstLayer*4, 2, activation = 'relu', padding = 'same')(UpSampling2D(size = (2,2))(conv6))\n",
    "    merge7 = concatenate([conv3,up7], axis = 3)\n",
    "    conv7 = Conv2D(filtersFirstLayer*4, 3, activation = 'relu', padding = 'same')(merge7)\n",
    "    conv7 = Conv2D(filtersFirstLayer*4, 3, activation = 'relu', padding = 'same')(conv7)\n",
    "\n",
    "    # Up 3 \n",
    "    up8 = Conv2D(filtersFirstLayer*2, 2, activation = 'relu', padding = 'same')(UpSampling2D(size = (2,2))(conv7))\n",
    "    merge8 = concatenate([conv2,up8], axis = 3)\n",
    "    conv8 = Conv2D(filtersFirstLayer*2, 3, activation = 'relu', padding = 'same')(merge8)\n",
    "    conv8 = Conv2D(filtersFirstLayer*2, 3, activation = 'relu', padding = 'same')(conv8)\n",
    "\n",
    "    # Up 4 \n",
    "    up9 = Conv2D(filtersFirstLayer, 2, activation = 'relu', padding = 'same')(UpSampling2D(size = (2,2))(conv8))\n",
    "    merge9 = concatenate([conv1,up9], axis = 3)\n",
    "    conv9 = Conv2D(filtersFirstLayer, 3, activation = 'relu', padding = 'same')(merge9)\n",
    "    conv9 = Conv2D(filtersFirstLayer, 3, activation = 'relu', padding = 'same')(conv9)\n",
    "    conv9 = Conv2D(2, 3, activation = 'relu', padding = 'same')(conv9)\n",
    "\n",
    "    # output\n",
    "    conv10 = Conv2D(1, 1, activation = 'sigmoid')(conv9)\n",
    "\n",
    "    model = Model(inputs, conv10)\n",
    "\n",
    "    model.compile(optimizer = Adam(lr = lr), loss = 'binary_crossentropy', metrics = metrics)\n",
    "    \n",
    "    model.summary()\n",
    "\n",
    "    if(pretrained_weights):\n",
    "    \tmodel.load_weights(pretrained_weights)\n",
    "\n",
    "    return model\n",
    "\n",
    "model = Unet(0.0001,32,input_size=(1024,1024,6))"
   ]
  },
  {
   "cell_type": "code",
   "execution_count": null,
   "metadata": {},
   "outputs": [],
   "source": [
    "# Load model weights\n",
    "model.load_weights(\"/content/drive/My Drive/Mestrado/artigo/artigo_final/results/augmented_terrain/64_64/random/model/unet/unet_random_size_64_filters_32_batch_size_16_lr_0.001.hdf5\")"
   ]
  },
  {
   "cell_type": "code",
   "execution_count": null,
   "metadata": {},
   "outputs": [],
   "source": [
    "# Evaluate the model \n",
    "model.evaluate(X_test,Y_test)"
   ]
  },
  {
   "cell_type": "code",
   "execution_count": null,
   "metadata": {},
   "outputs": [],
   "source": [
    "# Make the prediction over the test areas and save as .tif\n",
    "\n",
    "# import rasterio\n",
    "import rasterio\n",
    "\n",
    "\n",
    "# Predict\n",
    "preds_train = model.predict(X_test, verbose=1)\n",
    "# Assign the value one for predictions with results > 0.5\n",
    "preds_train_t = (preds_train > 0.5).astype(np.uint8)\n",
    "# Open the original image\n",
    "dataset = rasterio.open(original_image_path)\n",
    "# Get the metadata from the image\n",
    "meta = dataset.meta\n",
    "# Change the metadata to 1 (Result image will have just one channel)\n",
    "meta[\"count\"] = 1\n",
    "# Nodata values = 0\n",
    "meta[\"nodata\"] = 0\n",
    "# data type = uint8 (8bits)\n",
    "meta[\"dtype\"] = \"uint8\"\n",
    "# Ajust array dimensions\n",
    "save = np.squeeze(preds_train_t, axis=(0,3))\n",
    "save = np.expand_dims(save,axis = 0)\n",
    "# Save .tif image\n",
    "with rasterio.open(\"area_2_32_predict.tif\", 'w', **meta) as dst:\n",
    "    dst.write(save)"
   ]
  }
 ],
 "metadata": {
  "kernelspec": {
   "display_name": "Python 3",
   "language": "python",
   "name": "python3"
  },
  "language_info": {
   "codemirror_mode": {
    "name": "ipython",
    "version": 3
   },
   "file_extension": ".py",
   "mimetype": "text/x-python",
   "name": "python",
   "nbconvert_exporter": "python",
   "pygments_lexer": "ipython3",
   "version": "3.7.7"
  }
 },
 "nbformat": 4,
 "nbformat_minor": 4
}
