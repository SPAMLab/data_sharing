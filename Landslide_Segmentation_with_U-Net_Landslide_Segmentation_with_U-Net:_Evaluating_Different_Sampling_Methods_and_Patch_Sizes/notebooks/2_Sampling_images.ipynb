{
 "cells": [
  {
   "cell_type": "markdown",
   "metadata": {},
   "source": [
    "## Code to sample the dataset\n",
    "\n",
    "This code was used to create  square polygons to sample the dataset in two ways:\n",
    "\n",
    "- Grid;\n",
    "\n",
    "- Random.\n",
    "\n",
    "The code was adapted from keras-spatial library (https://pypi.org/project/keras-spatial/).\n",
    "\n",
    "Then, QGIS (select-by-location) was used to select the polygons that interserct the landslides."
   ]
  },
  {
   "cell_type": "code",
   "execution_count": null,
   "metadata": {},
   "outputs": [],
   "source": [
    "# Import libraries\n",
    "import geopandas as gpd\n",
    "import numpy as np\n",
    "from shapely.geometry import box\n",
    "import os\n",
    "import rasterio as rio"
   ]
  },
  {
   "cell_type": "code",
   "execution_count": null,
   "metadata": {},
   "outputs": [],
   "source": [
    "# Define the class SampleShapefile that will generate the random and regular samples.\n",
    "class SampleShapefile():\n",
    "    \"\"\"\n",
    "    Class SampleShapeFile:\n",
    "    \n",
    "    Attributes:\n",
    "    imagepath (string) = path to the .tif image;\n",
    "    \n",
    "    Methods:\n",
    "    generateShapefileRandomGrid => (geopandas.GeoDataFrame) \n",
    "    generateShapefileRegularGrid =>(geopandas.GeoDataFrame)\n",
    "    \n",
    "    \"\"\"\n",
    "    def __init__(self,pathToImage):\n",
    "        # Define the imagepath variable with the path to the .tif image\n",
    "        self.imagepath = pathToImage\n",
    "        # Define the class atribute the image varible that opens the .tif image\n",
    "        self.image = rio.open(self.imagepath)\n",
    "        # Get the metadata, crs and bounds of the TifImage\n",
    "        with self.image as TifImage:\n",
    "            self.meta = TifImage.meta\n",
    "            print(-self.meta[\"transform\"][4])\n",
    "            self.crs = TifImage.crs\n",
    "            self.xmax = TifImage.bounds[2]\n",
    "            self.xmin = TifImage.bounds[0]\n",
    "            self.ymax = TifImage.bounds[3]\n",
    "            self.ymin = TifImage.bounds[1]\n",
    "            \n",
    "    def generateShapefileRandomGrid(self,xsize, ysize, count, save = False, savePath = None):\n",
    "        \"\"\"\n",
    "        # Code addapted from Keras-spatial library - https://pypi.org/project/keras-spatial/ \n",
    "        Generate random grid over extent.\n",
    "        Args:\n",
    "          xmin (float): extent left boundary\n",
    "          ymin (float): extent bottom boundary\n",
    "          xmax (float): extent right boundary\n",
    "          ymax (float): extent top boundary\n",
    "          xsize (float): patch width\n",
    "          ysize (float): patch height\n",
    "          count (int): number of patches\n",
    "          crs (CRS): crs to assign geodataframe \n",
    "        Returns:\n",
    "          :obj:`geopandas.GeoDataFrame`:\n",
    "        \"\"\"\n",
    "        #Define the pixel size and multiply by the xsize to get xsize in number of pixels\n",
    "        xsize = self.meta[\"transform\"][0]*xsize\n",
    "        ysize = self.meta[\"transform\"][4]*ysize*-1\n",
    "        \n",
    "        x = np.random.rand(count) * (self.xmax-self.xmin-xsize) + self.xmin\n",
    "        y = np.random.rand(count) * (self.ymax-self.ymin-ysize) + self.ymin\n",
    "        polys = [box(x, y, x+xsize, y+ysize) for x,y in np.nditer([x,y])]\n",
    "\n",
    "        gdf = gpd.GeoDataFrame({'geometry':polys})\n",
    "        gdf.crs = self.crs\n",
    "        if save == False:\n",
    "            return gdf\n",
    "        else:\n",
    "            os.chdir(savePath)\n",
    "            gdf.to_file(\"random_grid\" + \".geojson\", driver=\"GeoJSON\")\n",
    "            \n",
    "            \n",
    "    \n",
    "    \n",
    "    def generateShapefileRegularGrid(self,xsize, ysize, overlap=0,save = False, savePath = None):\n",
    "        \"\"\"\n",
    "        # Code addapted from Keras-spatial library - https://pypi.org/project/keras-spatial/ \n",
    "        Generate regular grid over extent.\n",
    "        Args:\n",
    "          xmin (float): extent left boundary\n",
    "          ymin (float): extent bottom boundary\n",
    "          xmax (float): extent right boundary\n",
    "          ymax (float): extent top boundary\n",
    "          xsize (float): patch width\n",
    "          ysize (float): patch height\n",
    "          overlap (float): percentage of patch overlap (optional)\n",
    "          crs (CRS): crs to assign geodataframe \n",
    "        Returns:\n",
    "            if save == false:\n",
    "              \n",
    "            else:\n",
    "                geopandas.GeoDataFrame:\n",
    "        \"\"\"\n",
    "        #Define the pixel size and multiply by the xsize to get xsize in number of pixels\n",
    "        xsize = self.meta[\"transform\"][0]*xsize\n",
    "        ysize = (-self.meta[\"transform\"][4])*ysize\n",
    "\n",
    "        x = np.linspace(self.xmin, self.xmax-xsize, num=(self.xmax-self.xmin)//(xsize-xsize*overlap))\n",
    "        y = np.linspace(self.ymin, self.ymax-ysize, num=(self.ymax-self.ymin)//(ysize-ysize*overlap))\n",
    "        X,Y = np.meshgrid(x, y)\n",
    "        polys = [box(x, y, x+xsize, y+ysize) for x,y in np.nditer([X,Y])]\n",
    "\n",
    "        gdf = gpd.GeoDataFrame({'geometry':polys})\n",
    "        gdf.crs = self.crs\n",
    "        if save == False:\n",
    "            return gdf\n",
    "        else:\n",
    "            os.chdir(savePath)\n",
    "            gdf.to_file(\"regular_grid.geojson\", driver=\"GeoJSON\")"
   ]
  },
  {
   "cell_type": "code",
   "execution_count": null,
   "metadata": {},
   "outputs": [],
   "source": [
    "# save the root directory\n",
    "owd = os.getcwd()\n",
    "\n",
    "# define the path to the image that will be sampled \n",
    "pathToImage = \"data/images/RapidEye/2328825_2011-08-13_RE1_3A_Analytic.tif\"\n",
    "# Create an instance of SampleShapefile\n",
    "trainSampleShapefile = SampleShapefile(pathToImage)"
   ]
  },
  {
   "cell_type": "code",
   "execution_count": null,
   "metadata": {},
   "outputs": [],
   "source": [
    "os.chdir(owd)\n",
    "# Generate grid and random shapefiles 32x32\n",
    "savePath = \"data/train/shapefiles/32_32/regular\"\n",
    "# Generate the regular grid shapefile (32x32) with 0.2 overlap \n",
    "# Since the pixel size have same decimal places that increase by 1 the tile size\n",
    "# 31 was used instead of 32\n",
    "trainSampleShapefile.generateShapefileRegularGrid(31,31,0.2,True,savePath)"
   ]
  },
  {
   "cell_type": "code",
   "execution_count": null,
   "metadata": {},
   "outputs": [],
   "source": [
    "os.chdir(owd)\n",
    "# Generate grid and random shapefiles 32x32\n",
    "savePath = \"data/train/shapefiles/32_32/random\"\n",
    "# Generate the random grid sampling shapefile with 5000 samples\n",
    "trainSampleShapefile.generateShapefileRandomGrid(31,31,5000,True,savePath)"
   ]
  },
  {
   "cell_type": "code",
   "execution_count": null,
   "metadata": {},
   "outputs": [],
   "source": [
    "os.chdir(owd)\n",
    "# Generate grid and random shapefiles 64x64\n",
    "\n",
    "# Define the path to save the geojson\n",
    "savePath = \"data/train/shapefiles/64_64/regular\"\n",
    "# Generate the regular grid shapefile (64x64) with 0.2 overlap \n",
    "# Since the pixel size have same decimal places that increase by 1 the tile size\n",
    "# 61 was used instead of 64\n",
    "trainSampleShapefile.generateShapefileRegularGrid(63,63,0.2,True,savePath)"
   ]
  },
  {
   "cell_type": "code",
   "execution_count": null,
   "metadata": {},
   "outputs": [],
   "source": [
    "os.chdir(owd)\n",
    "# Generate random shapefiles 64x64\n",
    "\n",
    "# Define the path to save the geojson\n",
    "savePath = \"data/train/shapefiles/64_64/random\"\n",
    "# Generate the random grid sampling shapefile with 5000 samples\n",
    "trainSampleShapefile.generateShapefileRandomGrid(63,63,5000,True,savePath)"
   ]
  },
  {
   "cell_type": "code",
   "execution_count": null,
   "metadata": {},
   "outputs": [],
   "source": [
    "os.chdir(owd)\n",
    "# Generate grid and random shapefiles 128x128\n",
    "\n",
    "# Define the path to save the geojson\n",
    "savePath = \"data/train/shapefiles/128_128/regular\"\n",
    "# Generate the regular grid shapefile (64x64) with 0.2 overlap \n",
    "# Since the pixel size have same decimal places that increase by 1 the tile size\n",
    "# 127 was used instead of 128\n",
    "trainSampleShapefile.generateShapefileRegularGrid(128,128,0.2,True,savePath)"
   ]
  },
  {
   "cell_type": "code",
   "execution_count": null,
   "metadata": {},
   "outputs": [],
   "source": [
    "os.chdir(owd)\n",
    "# Generate random shapefiles 128x128\n",
    "\n",
    "# Define the path to save the geojson\n",
    "savePath = \"data/train/shapefiles/128_128/random\"\n",
    "# Generate the random grid sampling shapefile with 5000 samples\n",
    "trainSampleShapefile.generateShapefileRandomGrid(127,127,5000,True,savePath)"
   ]
  },
  {
   "cell_type": "code",
   "execution_count": null,
   "metadata": {},
   "outputs": [],
   "source": []
  }
 ],
 "metadata": {
  "kernelspec": {
   "display_name": "Python 3",
   "language": "python",
   "name": "python3"
  },
  "language_info": {
   "codemirror_mode": {
    "name": "ipython",
    "version": 3
   },
   "file_extension": ".py",
   "mimetype": "text/x-python",
   "name": "python",
   "nbconvert_exporter": "python",
   "pygments_lexer": "ipython3",
   "version": "3.7.7"
  }
 },
 "nbformat": 4,
 "nbformat_minor": 2
}
