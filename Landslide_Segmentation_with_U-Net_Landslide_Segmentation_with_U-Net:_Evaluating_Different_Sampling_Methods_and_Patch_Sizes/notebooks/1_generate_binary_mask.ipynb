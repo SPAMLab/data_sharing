{
 "cells": [
  {
   "cell_type": "code",
   "execution_count": null,
   "metadata": {},
   "outputs": [],
   "source": [
    "# Load utils\n",
    "from utils import *"
   ]
  },
  {
   "cell_type": "code",
   "execution_count": null,
   "metadata": {},
   "outputs": [],
   "source": [
    "# Define the path to the train and test images and geojsons\n",
    "\n",
    "# train area\n",
    "trainImage = \"data/images/RapidEye/2328825_2011-08-13_RE1_3A_Analytic.tif\"\n",
    "trainPolygons = \"data/polygons/train/train_landslides.geojson\"\n",
    "\n",
    "# test area 1\n",
    "test1Image = \"data/images/test/test_area_1.tif\"\n",
    "testArea1Polygons = \"data/polygons/test/test_area_1_landslides.geojson\"\n",
    "\n",
    "\n",
    "# test area 2\n",
    "test2Image = \"data/images/test/test_area_1.tif\"\n",
    "testArea2Polygons = testPolygons = \"data/polygons/test/test_area_2_landslides.geojson\""
   ]
  },
  {
   "cell_type": "code",
   "execution_count": null,
   "metadata": {},
   "outputs": [],
   "source": [
    "# Define the folder and the name of the outputfiles\n",
    "\n",
    "# Output folder path\n",
    "outputTrain = \"data/train/mask\"\n",
    "outputTest1 = \"data/test/test_1/mask\"\n",
    "outputTest2 = \"data/test/test_2/mask\"\n",
    "\n",
    "# File Name\n",
    "saveNameTrain = \"train_mask.tif\"\n",
    "saveNameTest1= \"test_area_1_mask.tif\"\n",
    "saveNameTest2 = \"test_area_2_mask.tif\""
   ]
  },
  {
   "cell_type": "code",
   "execution_count": null,
   "metadata": {},
   "outputs": [],
   "source": [
    "# save the root directory\n",
    "owd = os.getcwd()\n",
    "\n",
    "\n",
    "# generate train mask (generate_mask is a fuction from the utils library)\n",
    "generate_mask(shape_path= trainPolygons,\n",
    "             raster_path= trainImage,\n",
    "             output_path=outputTrain,\n",
    "             file_name=saveNameTrain)\n",
    "\n",
    "# back to root directory\n",
    "os.chdir(owd)\n",
    "\n",
    "# generate test 1 area mask\n",
    "generate_mask(shape_path= testArea1Polygons,\n",
    "             raster_path= test1Image,\n",
    "             output_path=outputTest1,\n",
    "             file_name=saveNameTest1)\n",
    "\n",
    "# back to root directory\n",
    "os.chdir(owd)\n",
    "\n",
    "# generate  test 2 area mask\n",
    "generate_mask(shape_path= testArea2Polygons,\n",
    "             raster_path= test2Image,\n",
    "             output_path=outputTest2,\n",
    "             file_name=saveNameTest2)"
   ]
  },
  {
   "cell_type": "code",
   "execution_count": null,
   "metadata": {},
   "outputs": [],
   "source": []
  }
 ],
 "metadata": {
  "kernelspec": {
   "display_name": "Python 3",
   "language": "python",
   "name": "python3"
  },
  "language_info": {
   "codemirror_mode": {
    "name": "ipython",
    "version": 3
   },
   "file_extension": ".py",
   "mimetype": "text/x-python",
   "name": "python",
   "nbconvert_exporter": "python",
   "pygments_lexer": "ipython3",
   "version": "3.7.7"
  }
 },
 "nbformat": 4,
 "nbformat_minor": 2
}
