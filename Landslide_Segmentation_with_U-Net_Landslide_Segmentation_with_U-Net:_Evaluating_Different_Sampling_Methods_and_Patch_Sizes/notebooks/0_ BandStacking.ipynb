{
 "cells": [
  {
   "cell_type": "markdown",
   "metadata": {},
   "source": [
    "\n",
    "### Code used to stack the RapidEye (5 bands) with the Alos/PALSAR (resampled to 5 meters)  image "
   ]
  },
  {
   "cell_type": "code",
   "execution_count": null,
   "metadata": {},
   "outputs": [],
   "source": [
    "# Import rasterio library\n",
    "import rasterio as rio"
   ]
  },
  {
   "cell_type": "code",
   "execution_count": null,
   "metadata": {},
   "outputs": [],
   "source": [
    "# Define the path to the images \n",
    "pathToRapidEye = \"/data/images/RapidEye/2328825_2011-08-13_RE1_3A_Analytic.tif\"\n",
    "pathToAlosPalsar = \"/data/images/Alos/alos_nova_friburgo_5m.tif\"\n",
    "\n",
    "# Define the path to save the stacked image\n",
    "pathToSave = \"/data/images/stack_RapidEye_Alos/RapidEye_and_Alos_Nova_Friburgo.tif\""
   ]
  },
  {
   "cell_type": "code",
   "execution_count": null,
   "metadata": {},
   "outputs": [],
   "source": [
    "# Open RapidEye Bands\n",
    "with rio.open(pathToRapidEye) as src:\n",
    "    band_blue = src.read(1)\n",
    "    band_green = src.read(2)\n",
    "    band_red = src.read(3)\n",
    "    band_red_edge = src.read(4)\n",
    "    band_nir = src.read(5)\n",
    "    "
   ]
  },
  {
   "cell_type": "code",
   "execution_count": null,
   "metadata": {},
   "outputs": [],
   "source": [
    "# Open Alos image\n",
    "with rio.open(pathToAlosPalsar) as alos:\n",
    "    band_alos = alos.read(1)"
   ]
  },
  {
   "cell_type": "code",
   "execution_count": null,
   "metadata": {},
   "outputs": [],
   "source": [
    "# Update the metadata with count = 6 (5 (RapidEye) + 1 (Alos - DEM)) and dtype = uint16\n",
    "kwargs = src.meta\n",
    "kwargs.update(\n",
    "    dtype=rio.uint16,\n",
    "    count = 6)"
   ]
  },
  {
   "cell_type": "code",
   "execution_count": null,
   "metadata": {},
   "outputs": [],
   "source": [
    "# Save the stacked image\n",
    "with rio.open(pathToSaveStacked,\"w\",**kwargs) as dst:\n",
    "    dst.write_band(1, band_blue.astype(rio.uint16))\n",
    "    dst.write_band(2, band_green.astype(rio.uint16))\n",
    "    dst.write_band(3, band_red.astype(rio.uint16))\n",
    "    dst.write_band(4, band_red_edge.astype(rio.uint16))\n",
    "    dst.write_band(5, band_nir.astype(rio.uint16))\n",
    "    dst.write_band(6, band_alos.astype(rio.uint16))"
   ]
  }
 ],
 "metadata": {
  "kernelspec": {
   "display_name": "Python 3",
   "language": "python",
   "name": "python3"
  },
  "language_info": {
   "codemirror_mode": {
    "name": "ipython",
    "version": 3
   },
   "file_extension": ".py",
   "mimetype": "text/x-python",
   "name": "python",
   "nbconvert_exporter": "python",
   "pygments_lexer": "ipython3",
   "version": "3.7.0"
  }
 },
 "nbformat": 4,
 "nbformat_minor": 2
}
